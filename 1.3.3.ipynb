{
 "cells": [
  {
   "metadata": {
    "ExecuteTime": {
     "end_time": "2024-07-28T19:15:18.094116Z",
     "start_time": "2024-07-28T19:15:18.088840Z"
    }
   },
   "cell_type": "code",
   "source": [
    "# 3.3 Продвинутый уровень понимания ленейной регрессии\n",
    "# 3.4 Понимание линейной регресии "
   ],
   "id": "fc71577b1635dbeb",
   "outputs": [],
   "execution_count": 1
  },
  {
   "metadata": {
    "ExecuteTime": {
     "end_time": "2024-07-28T19:18:27.395678Z",
     "start_time": "2024-07-28T19:18:23.922832Z"
    }
   },
   "cell_type": "code",
   "source": [
    "from sklearn.datasets import fetch_california_housing\n",
    "from sklearn.model_selection import train_test_split\n",
    "from sklearn.linear_model import LinearRegression\n",
    "from sklearn.metrics import mean_squared_error, r2_score\n",
    "\n",
    "# Функция для загрузки данных с обработкой ошибок\n",
    "def load_data():\n",
    "  try:\n",
    "    housing = fetch_california_housing()\n",
    "    X, y = housing.data, housing.target\n",
    "    return X, y\n",
    "  except Exception as e:\n",
    "    print(f\"Error loading data: {e}\")\n",
    "    return None, None\n",
    "\n",
    "# Загрузка данных\n",
    "X, y = load_data()\n",
    "\n",
    "if X is not None and y is not None:\n",
    "  # Разделение данных на обучающую и тестовую выборки\n",
    "  X_train, X_test, y_train, y_test = train_test_split(X, y, test_size=0.2, random_state=42)\n",
    "\n",
    "  # Создание и обучение модели линейной регрессии\n",
    "  model = LinearRegression()\n",
    "  model.fit(X_train, y_train)\n",
    "\n",
    "  # Предсказание на тестовой выборке\n",
    "  y_pred = model.predict(X_test)\n",
    "\n",
    "  # Оценка модели\n",
    "  mse = mean_squared_error(y_test, y_pred)\n",
    "  r2 = r2_score(y_test, y_pred)\n",
    "\n",
    "  # Вывод результатов\n",
    "  print(f'Intercept: {model.intercept_}')\n",
    "  print(f'Coefficients: {model.coef_}')\n",
    "  print(f'Mean Squared Error: {mse}')\n",
    "  print(f'R^2 Score: {r2}')\n",
    "else:\n",
    "  print(\"Data could not be loaded.\")\n"
   ],
   "id": "c647bdedc8583961",
   "outputs": [
    {
     "name": "stdout",
     "output_type": "stream",
     "text": [
      "Error loading data: <urlopen error [SSL: CERTIFICATE_VERIFY_FAILED] certificate verify failed: unable to get local issuer certificate (_ssl.c:1000)>\n",
      "Data could not be loaded.\n"
     ]
    }
   ],
   "execution_count": 6
  },
  {
   "metadata": {},
   "cell_type": "code",
   "outputs": [],
   "execution_count": null,
   "source": "",
   "id": "d7accc5e082d87bf"
  }
 ],
 "metadata": {
  "kernelspec": {
   "display_name": "Python (venv)",
   "language": "python",
   "name": "venv"
  },
  "language_info": {
   "codemirror_mode": {
    "name": "ipython",
    "version": 3
   },
   "file_extension": ".py",
   "mimetype": "text/x-python",
   "name": "python",
   "nbconvert_exporter": "python",
   "pygments_lexer": "ipython3",
   "version": "3.12.4"
  }
 },
 "nbformat": 4,
 "nbformat_minor": 5
}
