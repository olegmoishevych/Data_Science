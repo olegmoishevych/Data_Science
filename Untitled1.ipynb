{
 "cells": [
  {
   "cell_type": "code",
   "id": "08fa3c5a-acd1-4bc5-9075-6f4ef3627c98",
   "metadata": {
    "ExecuteTime": {
     "end_time": "2024-07-21T20:20:40.798301Z",
     "start_time": "2024-07-21T20:20:40.049073Z"
    }
   },
   "source": [
    "import numpy as np\n",
    "import pandas as pd\n",
    "\n",
    "print(np.__version__)\n",
    "print(pd.__version__)\n"
   ],
   "outputs": [
    {
     "name": "stdout",
     "output_type": "stream",
     "text": [
      "2.0.1\n",
      "2.2.2\n"
     ]
    }
   ],
   "execution_count": 1
  },
  {
   "cell_type": "code",
   "id": "1c09a33e-08ec-4c44-a2c9-7ca0d8fca609",
   "metadata": {
    "ExecuteTime": {
     "end_time": "2024-07-21T20:21:20.125578Z",
     "start_time": "2024-07-21T20:21:20.120203Z"
    }
   },
   "source": [
    "import matplotlib\n",
    "import matplotlib.pyplot as plt\n",
    "from mpl_toolkits.mplot3d import Axes3D # для отрисовки 3D проекции\n",
    "\n",
    "matplotlib.rc(\"font\", size=18) # для увеличения шрифта подписей графиков"
   ],
   "outputs": [],
   "execution_count": 3
  },
  {
   "cell_type": "code",
   "id": "fad1c826-95fa-45c3-a2f7-bda60d9bf1b3",
   "metadata": {
    "ExecuteTime": {
     "end_time": "2024-07-21T20:25:13.066719Z",
     "start_time": "2024-07-21T20:25:13.058918Z"
    }
   },
   "source": [
    "# загружаем данные\n",
    "houses = pd.read_csv(\"../1.4_houses.csv\")"
   ],
   "outputs": [],
   "execution_count": 4
  },
  {
   "cell_type": "code",
   "id": "bedc4b6b-b9fa-4979-8754-23f46d5f4f2e",
   "metadata": {
    "ExecuteTime": {
     "end_time": "2024-07-21T20:25:17.764809Z",
     "start_time": "2024-07-21T20:25:17.747950Z"
    }
   },
   "source": "houses.head(7)",
   "outputs": [
    {
     "data": {
      "text/plain": [
       "   dim_1  dim_2   level   price\n",
       "0     29     28  luxury  2212.0\n",
       "1     28     29  luxury  2203.0\n",
       "2      6      9   basic   254.0\n",
       "3      5      9   basic   242.0\n",
       "4      6      6   basic   195.0\n",
       "5      5      8   basic   200.0\n",
       "6     27     29  luxury  2108.0"
      ],
      "text/html": [
       "<div>\n",
       "<style scoped>\n",
       "    .dataframe tbody tr th:only-of-type {\n",
       "        vertical-align: middle;\n",
       "    }\n",
       "\n",
       "    .dataframe tbody tr th {\n",
       "        vertical-align: top;\n",
       "    }\n",
       "\n",
       "    .dataframe thead th {\n",
       "        text-align: right;\n",
       "    }\n",
       "</style>\n",
       "<table border=\"1\" class=\"dataframe\">\n",
       "  <thead>\n",
       "    <tr style=\"text-align: right;\">\n",
       "      <th></th>\n",
       "      <th>dim_1</th>\n",
       "      <th>dim_2</th>\n",
       "      <th>level</th>\n",
       "      <th>price</th>\n",
       "    </tr>\n",
       "  </thead>\n",
       "  <tbody>\n",
       "    <tr>\n",
       "      <th>0</th>\n",
       "      <td>29</td>\n",
       "      <td>28</td>\n",
       "      <td>luxury</td>\n",
       "      <td>2212.0</td>\n",
       "    </tr>\n",
       "    <tr>\n",
       "      <th>1</th>\n",
       "      <td>28</td>\n",
       "      <td>29</td>\n",
       "      <td>luxury</td>\n",
       "      <td>2203.0</td>\n",
       "    </tr>\n",
       "    <tr>\n",
       "      <th>2</th>\n",
       "      <td>6</td>\n",
       "      <td>9</td>\n",
       "      <td>basic</td>\n",
       "      <td>254.0</td>\n",
       "    </tr>\n",
       "    <tr>\n",
       "      <th>3</th>\n",
       "      <td>5</td>\n",
       "      <td>9</td>\n",
       "      <td>basic</td>\n",
       "      <td>242.0</td>\n",
       "    </tr>\n",
       "    <tr>\n",
       "      <th>4</th>\n",
       "      <td>6</td>\n",
       "      <td>6</td>\n",
       "      <td>basic</td>\n",
       "      <td>195.0</td>\n",
       "    </tr>\n",
       "    <tr>\n",
       "      <th>5</th>\n",
       "      <td>5</td>\n",
       "      <td>8</td>\n",
       "      <td>basic</td>\n",
       "      <td>200.0</td>\n",
       "    </tr>\n",
       "    <tr>\n",
       "      <th>6</th>\n",
       "      <td>27</td>\n",
       "      <td>29</td>\n",
       "      <td>luxury</td>\n",
       "      <td>2108.0</td>\n",
       "    </tr>\n",
       "  </tbody>\n",
       "</table>\n",
       "</div>"
      ]
     },
     "execution_count": 5,
     "metadata": {},
     "output_type": "execute_result"
    }
   ],
   "execution_count": 5
  },
  {
   "metadata": {
    "ExecuteTime": {
     "end_time": "2024-07-21T20:30:53.383321Z",
     "start_time": "2024-07-21T20:30:53.207645Z"
    }
   },
   "cell_type": "code",
   "source": [
    "fig = plt.figure(figsize=(5, 5)) # создаем картинку\n",
    "ax = plt.axes()\n",
    "\n",
    "# помещаем точки на график\n",
    "ax.scatter(houses[\"dim_1\"], houses[\"price\"], s=100)\n",
    "\n",
    "# отображаем картинку\n",
    "plt.show()"
   ],
   "id": "de02d55baa4a11bd",
   "outputs": [
    {
     "data": {
      "text/plain": [
       "<Figure size 500x500 with 1 Axes>"
      ],
      "image/png": "[encoded data removed]"
     },
     "metadata": {},
     "output_type": "display_data"
    }
   ],
   "execution_count": 7
  },
  {
   "metadata": {
    "ExecuteTime": {
     "end_time": "2024-07-21T20:33:42.763771Z",
     "start_time": "2024-07-21T20:32:43.617244Z"
    }
   },
   "cell_type": "code",
   "source": [
    "# импортируем модуль, отвечающий за линейную регрессию\n",
    "from sklearn.linear_model import LinearRegression"
   ],
   "id": "91293bc644c21f43",
   "outputs": [],
   "execution_count": 8
  },
  {
   "metadata": {
    "ExecuteTime": {
     "end_time": "2024-07-21T20:40:40.260117Z",
     "start_time": "2024-07-21T20:40:40.252009Z"
    }
   },
   "cell_type": "code",
   "source": [
    "# выгружаем признаки и целевые значения в отдельные переменные\n",
    "X = houses[[\"dim_1\"]]\n",
    "y = houses[\"price\"]\n",
    "\n",
    "# создаем регрессор\n",
    "reg = LinearRegression().fit(X, y)"
   ],
   "id": "3a9c5b6fa95f96ad",
   "outputs": [],
   "execution_count": 9
  },
  {
   "metadata": {
    "ExecuteTime": {
     "end_time": "2024-07-21T20:42:35.639627Z",
     "start_time": "2024-07-21T20:42:35.633891Z"
    }
   },
   "cell_type": "code",
   "source": "reg.coef_",
   "id": "898e2e3f150e3b67",
   "outputs": [
    {
     "data": {
      "text/plain": [
       "array([83.08870109])"
      ]
     },
     "execution_count": 10,
     "metadata": {},
     "output_type": "execute_result"
    }
   ],
   "execution_count": 10
  },
  {
   "metadata": {
    "ExecuteTime": {
     "end_time": "2024-07-21T20:43:10.727416Z",
     "start_time": "2024-07-21T20:43:10.722647Z"
    }
   },
   "cell_type": "code",
   "source": "reg.intercept_\n",
   "id": "b0471ef64c2a4f4d",
   "outputs": [
    {
     "data": {
      "text/plain": [
       "np.float64(-351.68469784672334)"
      ]
     },
     "execution_count": 11,
     "metadata": {},
     "output_type": "execute_result"
    }
   ],
   "execution_count": 11
  },
  {
   "metadata": {
    "ExecuteTime": {
     "end_time": "2024-07-21T20:43:53.198099Z",
     "start_time": "2024-07-21T20:43:53.193129Z"
    }
   },
   "cell_type": "code",
   "source": [
    "# вытаскиваем нужные коэффициенты\n",
    "[b] = reg.coef_\n",
    "a = reg.intercept_\n",
    "\n",
    "# создаем функцию для предсказания цены дома\n",
    "def reg_prediction(dim_1):\n",
    "  return a + b * dim_1"
   ],
   "id": "12b1754dfcc230e3",
   "outputs": [],
   "execution_count": 12
  },
  {
   "metadata": {
    "ExecuteTime": {
     "end_time": "2024-07-21T20:44:11.604916Z",
     "start_time": "2024-07-21T20:44:11.599435Z"
    }
   },
   "cell_type": "code",
   "source": "reg_prediction(X.dim_1[0])",
   "id": "15fb94f6ef24f4fc",
   "outputs": [
    {
     "data": {
      "text/plain": [
       "np.float64(2057.887633711507)"
      ]
     },
     "execution_count": 13,
     "metadata": {},
     "output_type": "execute_result"
    }
   ],
   "execution_count": 13
  },
  {
   "metadata": {},
   "cell_type": "code",
   "outputs": [],
   "execution_count": null,
   "source": "",
   "id": "5b60a137a211e188"
  }
 ],
 "metadata": {
  "kernelspec": {
   "display_name": "Python (venv)",
   "language": "python",
   "name": "venv"
  },
  "language_info": {
   "codemirror_mode": {
    "name": "ipython",
    "version": 3
   },
   "file_extension": ".py",
   "mimetype": "text/x-python",
   "name": "python",
   "nbconvert_exporter": "python",
   "pygments_lexer": "ipython3",
   "version": "3.12.4"
  }
 },
 "nbformat": 4,
 "nbformat_minor": 5
}
