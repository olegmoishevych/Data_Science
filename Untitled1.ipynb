{
 "cells": [
  {
   "cell_type": "code",
   "id": "08fa3c5a-acd1-4bc5-9075-6f4ef3627c98",
   "metadata": {
    "ExecuteTime": {
     "end_time": "2024-07-21T20:20:40.798301Z",
     "start_time": "2024-07-21T20:20:40.049073Z"
    }
   },
   "source": [
    "import numpy as np\n",
    "import pandas as pd\n",
    "\n",
    "print(np.__version__)\n",
    "print(pd.__version__)\n"
   ],
   "outputs": [
    {
     "name": "stdout",
     "output_type": "stream",
     "text": [
      "2.0.1\n",
      "2.2.2\n"
     ]
    }
   ],
   "execution_count": 1
  },
  {
   "cell_type": "code",
   "id": "1c09a33e-08ec-4c44-a2c9-7ca0d8fca609",
   "metadata": {
    "ExecuteTime": {
     "end_time": "2024-07-21T20:21:20.125578Z",
     "start_time": "2024-07-21T20:21:20.120203Z"
    }
   },
   "source": [
    "import matplotlib\n",
    "import matplotlib.pyplot as plt\n",
    "from mpl_toolkits.mplot3d import Axes3D # для отрисовки 3D проекции\n",
    "\n",
    "matplotlib.rc(\"font\", size=18) # для увеличения шрифта подписей графиков"
   ],
   "outputs": [],
   "execution_count": 3
  },
  {
   "cell_type": "code",
   "execution_count": null,
   "id": "fad1c826-95fa-45c3-a2f7-bda60d9bf1b3",
   "metadata": {},
   "outputs": [],
   "source": []
  },
  {
   "cell_type": "code",
   "execution_count": null,
   "id": "bedc4b6b-b9fa-4979-8754-23f46d5f4f2e",
   "metadata": {},
   "outputs": [],
   "source": []
  }
 ],
 "metadata": {
  "kernelspec": {
   "display_name": "Python (venv)",
   "language": "python",
   "name": "venv"
  },
  "language_info": {
   "codemirror_mode": {
    "name": "ipython",
    "version": 3
   },
   "file_extension": ".py",
   "mimetype": "text/x-python",
   "name": "python",
   "nbconvert_exporter": "python",
   "pygments_lexer": "ipython3",
   "version": "3.12.4"
  }
 },
 "nbformat": 4,
 "nbformat_minor": 5
}
