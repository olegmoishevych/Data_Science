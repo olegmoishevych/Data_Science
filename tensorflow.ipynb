{
 "cells": [
  {
   "cell_type": "code",
   "id": "initial_id",
   "metadata": {
    "collapsed": true,
    "ExecuteTime": {
     "end_time": "2024-08-02T20:18:48.730901Z",
     "start_time": "2024-08-02T20:18:48.724657Z"
    }
   },
   "source": [
    "import tensorflow as tf\n",
    "\n",
    "print('tensorflow version:', tf.version)"
   ],
   "outputs": [
    {
     "name": "stdout",
     "output_type": "stream",
     "text": [
      "tensorflow version: <module 'tensorflow._api.v2.version' from '/Users/a1398-2015/Desktop/Projects/Data_Science/lesson_4/venv/lib/python3.12/site-packages/tensorflow/_api/v2/version/__init__.py'>\n"
     ]
    }
   ],
   "execution_count": 2
  },
  {
   "metadata": {},
   "cell_type": "code",
   "outputs": [],
   "execution_count": null,
   "source": "",
   "id": "6798808212f9b08d"
  }
 ],
 "metadata": {
  "kernelspec": {
   "display_name": "Python 3",
   "language": "python",
   "name": "python3"
  },
  "language_info": {
   "codemirror_mode": {
    "name": "ipython",
    "version": 2
   },
   "file_extension": ".py",
   "mimetype": "text/x-python",
   "name": "python",
   "nbconvert_exporter": "python",
   "pygments_lexer": "ipython2",
   "version": "2.7.6"
  }
 },
 "nbformat": 4,
 "nbformat_minor": 5
}
