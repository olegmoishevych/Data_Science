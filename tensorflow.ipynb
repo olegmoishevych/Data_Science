{
 "cells": [
  {
   "metadata": {
    "ExecuteTime": {
     "end_time": "2024-08-03T21:16:17.777407Z",
     "start_time": "2024-08-03T21:16:17.774650Z"
    }
   },
   "cell_type": "code",
   "source": [
    "import tensorflow as tf\n",
    "# TensorFlow -v\n",
    "print(\"TensorFlow version:\", tf.__version__)"
   ],
   "id": "e13f90f61795551f",
   "outputs": [
    {
     "name": "stdout",
     "output_type": "stream",
     "text": [
      "TensorFlow version: 2.17.0\n"
     ]
    }
   ],
   "execution_count": 25
  },
  {
   "metadata": {
    "ExecuteTime": {
     "end_time": "2024-08-03T21:16:36.888252Z",
     "start_time": "2024-08-03T21:16:36.883907Z"
    }
   },
   "cell_type": "code",
   "source": [
    "a = tf.constant(10)\n",
    "b = tf.constant(20)\n",
    "c = a + b"
   ],
   "id": "35c18b80199fb84c",
   "outputs": [],
   "execution_count": 26
  },
  {
   "metadata": {
    "ExecuteTime": {
     "end_time": "2024-08-03T21:16:40.233662Z",
     "start_time": "2024-08-03T21:16:40.230210Z"
    }
   },
   "cell_type": "code",
   "source": "print(\"10 + 20 =\", c.numpy())",
   "id": "ac8486fa90df43a8",
   "outputs": [
    {
     "name": "stdout",
     "output_type": "stream",
     "text": [
      "10 + 20 = 30\n"
     ]
    }
   ],
   "execution_count": 27
  }
 ],
 "metadata": {
  "kernelspec": {
   "display_name": "Python 3",
   "language": "python",
   "name": "python3"
  },
  "language_info": {
   "codemirror_mode": {
    "name": "ipython",
    "version": 2
   },
   "file_extension": ".py",
   "mimetype": "text/x-python",
   "name": "python",
   "nbconvert_exporter": "python",
   "pygments_lexer": "ipython2",
   "version": "2.7.6"
  }
 },
 "nbformat": 4,
 "nbformat_minor": 5
}
