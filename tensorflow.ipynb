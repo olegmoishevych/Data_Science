{
 "cells": [
  {
   "cell_type": "code",
   "id": "initial_id",
   "metadata": {
    "collapsed": true,
    "ExecuteTime": {
     "end_time": "2024-08-03T18:54:47.235033Z",
     "start_time": "2024-08-03T18:54:47.229631Z"
    }
   },
   "source": [
    "import tensorflow as tf\n",
    "\n",
    "# print(\"TensorFlow version:\", tf.__version__)\n",
    "# \n",
    "# model = tf.keras.Sequential([\n",
    "#     tf.keras.layers.Dense(10, activation='relu', input_shape=(784,)),\n",
    "#     tf.keras.layers.Dense(10)\n",
    "# ])\n",
    "# \n",
    "# model.compile(optimizer='adam', \n",
    "#               loss=tf.losses.SparseCategoricalCrossentropy(from_logits=True), \n",
    "#               metrics=['accuracy'])\n",
    "# \n",
    "# print(\"Model created and compiled successfully.\")\n",
    "print('tenser_version',tf.__version__)  \n",
    "\n",
    "a = tf.Variable(10.0) # create variable TensorFlow with start value 10\n",
    "b = tf.Variable(20.0) # create variable TensorFlow with start value 20\n",
    "\n",
    "print('a&b', a + b)  # a & b\n",
    "print(tf.exp(a))  # variable a"
   ],
   "outputs": [
    {
     "name": "stdout",
     "output_type": "stream",
     "text": [
      "tenser_version 2.17.0\n",
      "a&b tf.Tensor(30.0, shape=(), dtype=float32)\n",
      "tf.Tensor(22026.465, shape=(), dtype=float32)\n"
     ]
    }
   ],
   "execution_count": 2
  },
  {
   "metadata": {},
   "cell_type": "code",
   "outputs": [],
   "execution_count": null,
   "source": "",
   "id": "6798808212f9b08d"
  }
 ],
 "metadata": {
  "kernelspec": {
   "display_name": "Python 3",
   "language": "python",
   "name": "python3"
  },
  "language_info": {
   "codemirror_mode": {
    "name": "ipython",
    "version": 2
   },
   "file_extension": ".py",
   "mimetype": "text/x-python",
   "name": "python",
   "nbconvert_exporter": "python",
   "pygments_lexer": "ipython2",
   "version": "2.7.6"
  }
 },
 "nbformat": 4,
 "nbformat_minor": 5
}
