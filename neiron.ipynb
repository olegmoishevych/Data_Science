{
 "cells": [
  {
   "metadata": {
    "ExecuteTime": {
     "end_time": "2024-08-01T20:25:12.843232Z",
     "start_time": "2024-08-01T20:25:11.958090Z"
    }
   },
   "cell_type": "code",
   "source": [
    "import numpy as np\n",
    "\n",
    "# Определим функции активации и их производные\n",
    "def sigmoid(x):\n",
    "    return 1 / (1 + np.exp(-x))\n",
    "\n",
    "def sigmoid_derivative(x):\n",
    "    return x * (1 - x)\n",
    "\n",
    "# Подготовка данных\n",
    "inputs = np.array([[0, 0],\n",
    "                   [0, 1],\n",
    "                   [1, 0],\n",
    "                   [1, 1]])\n",
    "\n",
    "outputs = np.array([[0], [1], [1], [0]])\n",
    "\n",
    "# Инициализация весов случайными числами\n",
    "np.random.seed(42)\n",
    "input_layer_neurons = inputs.shape[1]\n",
    "hidden_layer_neurons = 2\n",
    "output_neurons = 1\n",
    "\n",
    "# Веса между входным и скрытым слоем\n",
    "hidden_weights = np.random.uniform(size=(input_layer_neurons, hidden_layer_neurons))\n",
    "hidden_bias = np.random.uniform(size=(1, hidden_layer_neurons))\n",
    "\n",
    "# Веса между скрытым и выходным слоем\n",
    "output_weights = np.random.uniform(size=(hidden_layer_neurons, output_neurons))\n",
    "output_bias = np.random.uniform(size=(1, output_neurons))\n",
    "\n",
    "# Определение количества итераций и скорости обучения\n",
    "epochs = 10000\n",
    "learning_rate = 0.1\n",
    "\n",
    "# Обучение модели\n",
    "for epoch in range(epochs):\n",
    "    # Прямое распространение\n",
    "    hidden_layer_input = np.dot(inputs, hidden_weights) + hidden_bias\n",
    "    hidden_layer_activation = sigmoid(hidden_layer_input)\n",
    "\n",
    "    output_layer_input = np.dot(hidden_layer_activation, output_weights) + output_bias\n",
    "    predicted_output = sigmoid(output_layer_input)\n",
    "\n",
    "    # Вычисление ошибки\n",
    "    error = outputs - predicted_output\n",
    "    d_predicted_output = error * sigmoid_derivative(predicted_output)\n",
    "\n",
    "    # Обратное распространение\n",
    "    error_hidden_layer = d_predicted_output.dot(output_weights.T)\n",
    "    d_hidden_layer = error_hidden_layer * sigmoid_derivative(hidden_layer_activation)\n",
    "\n",
    "    # Обновление весов и смещений\n",
    "    output_weights += hidden_layer_activation.T.dot(d_predicted_output) * learning_rate\n",
    "    output_bias += np.sum(d_predicted_output, axis=0, keepdims=True) * learning_rate\n",
    "    hidden_weights += inputs.T.dot(d_hidden_layer) * learning_rate\n",
    "    hidden_bias += np.sum(d_hidden_layer, axis=0, keepdims=True) * learning_rate\n",
    "\n",
    "    if (epoch + 1) % 1000 == 0:\n",
    "        print(f'Epoch {epoch+1}, Error: {np.mean(np.abs(error))}')\n",
    "\n",
    "# Проверка результата\n",
    "print(\"Input:\\n\", inputs)\n",
    "print(\"Actual Output:\\n\", outputs)\n",
    "print(\"Predicted Output:\\n\", predicted_output)\n"
   ],
   "id": "93b4002d3d6bb35e",
   "outputs": [
    {
     "name": "stdout",
     "output_type": "stream",
     "text": [
      "Epoch 1000, Error: 0.4896533821967359\n",
      "Epoch 2000, Error: 0.4305879058698948\n",
      "Epoch 3000, Error: 0.3358864269931021\n",
      "Epoch 4000, Error: 0.17367683205658846\n",
      "Epoch 5000, Error: 0.11184946532482275\n",
      "Epoch 6000, Error: 0.08578266819752217\n",
      "Epoch 7000, Error: 0.0713199793269066\n",
      "Epoch 8000, Error: 0.06198291159412562\n",
      "Epoch 9000, Error: 0.05537784300303635\n",
      "Epoch 10000, Error: 0.0504138959056583\n",
      "Input:\n",
      " [[0 0]\n",
      " [0 1]\n",
      " [1 0]\n",
      " [1 1]]\n",
      "Actual Output:\n",
      " [[0]\n",
      " [1]\n",
      " [1]\n",
      " [0]]\n",
      "Predicted Output:\n",
      " [[0.05322146]\n",
      " [0.95171535]\n",
      " [0.95160449]\n",
      " [0.05175396]]\n"
     ]
    }
   ],
   "execution_count": 1
  },
  {
   "metadata": {},
   "cell_type": "code",
   "outputs": [],
   "execution_count": null,
   "source": "",
   "id": "be312eae9677eb59"
  }
 ],
 "metadata": {
  "kernelspec": {
   "display_name": "Python 3",
   "language": "python",
   "name": "python3"
  },
  "language_info": {
   "codemirror_mode": {
    "name": "ipython",
    "version": 2
   },
   "file_extension": ".py",
   "mimetype": "text/x-python",
   "name": "python",
   "nbconvert_exporter": "python",
   "pygments_lexer": "ipython2",
   "version": "2.7.6"
  }
 },
 "nbformat": 4,
 "nbformat_minor": 5
}
